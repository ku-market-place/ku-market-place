{
    "metadata": {
        "kernelspec": {
            "name": "SQL",
            "display_name": "SQL",
            "language": "sql"
        },
        "language_info": {
            "name": "sql",
            "version": ""
        }
    },
    "nbformat_minor": 2,
    "nbformat": 4,
    "cells": [
        {
            "cell_type": "code",
            "source": [
                "CREATE DATABASE ku_market_place_database;"
            ],
            "metadata": {
                "azdata_cell_guid": "7b42a114-fa1d-4deb-9e70-32c22fa73e95",
                "language": "sql"
            },
            "outputs": [
                {
                    "output_type": "display_data",
                    "data": {
                        "text/html": "Commands completed successfully."
                    },
                    "metadata": {}
                },
                {
                    "output_type": "display_data",
                    "data": {
                        "text/html": "Total execution time: 00:00:00.530"
                    },
                    "metadata": {}
                }
            ],
            "execution_count": 12
        },
        {
            "cell_type": "code",
            "source": [
                "use ku_market_place_database;"
            ],
            "metadata": {
                "language": "sql",
                "azdata_cell_guid": "0b40b745-0edc-4c80-a372-ba5b6711cfbd"
            },
            "outputs": [
                {
                    "output_type": "display_data",
                    "data": {
                        "text/html": "Commands completed successfully."
                    },
                    "metadata": {}
                },
                {
                    "output_type": "display_data",
                    "data": {
                        "text/html": "Total execution time: 00:00:00.003"
                    },
                    "metadata": {}
                }
            ],
            "execution_count": 13
        },
        {
            "cell_type": "code",
            "source": [
                "DROP TABLE IF EXISTS Customer\n",
                "DROP TABLE IF EXISTS Category\n",
                "DROP TABLE IF EXISTS Product\n",
                "DROP TABLE IF EXISTS OrderItem\n",
                "DROP TABLE IF EXISTS CustomerOrder\n",
                "DROP TABLE IF EXISTS Shiping;\n",
                ""
            ],
            "metadata": {
                "language": "sql",
                "azdata_cell_guid": "4a74cf6c-3e0e-4449-8d86-31d353ec141a"
            },
            "outputs": [
                {
                    "output_type": "display_data",
                    "data": {
                        "text/html": "Commands completed successfully."
                    },
                    "metadata": {}
                },
                {
                    "output_type": "display_data",
                    "data": {
                        "text/html": "Total execution time: 00:00:00.005"
                    },
                    "metadata": {}
                }
            ],
            "execution_count": 8
        },
        {
            "cell_type": "code",
            "source": [
                "create table Customer (\n",
                "    CustomerID varchar(200),\n",
                "    address VARCHAR(200),\n",
                "    phone VARCHAR(200),\n",
                "    PRIMARY KEY (CustomerID)\n",
                ")\n",
                "\n",
                "create table Product(\n",
                "    ProductID VARCHAR(200),\n",
                "    gender VARCHAR(10) DEFAULT 'Unisex',\n",
                "    masterCategory VARCHAR(50),\n",
                "    subCategory VARCHAR(50),\n",
                "    articleType VARCHAR(50),\n",
                "    baseColour VARCHAR(50),\n",
                "    season VARCHAR(20),\n",
                "    year INT DEFAULT 2023,\n",
                "    usage VARCHAR(20),\n",
                "    productDisplayName VARCHAR(255),\n",
                "    productPrice FLOAT DEFAULT 0,\n",
                "    quantity INT DEFAULT 100,\n",
                "    image VARCHAR(300)\n",
                "    PRIMARY KEY (ProductID)\n",
                ")\n",
                "\n",
                "CREATE TABLE OrderItem (\n",
                "    OrderItemID VARCHAR (200),\n",
                "    ProductID VARCHAR(200),\n",
                "    quantity INT DEFAULT 0,\n",
                "    total_amount FLOAT DEFAULT 0,\n",
                "    PRIMARY KEY (OrderItemID),\n",
                "    FOREIGN KEY (ProductID) REFERENCES Product\n",
                ")\n",
                "\n",
                "CREATE TABLE CustomerOrder (\n",
                "    CustomerID varchar(200),\n",
                "    OrderID varchar(200),\n",
                "    OrderItemID VARCHAR (200),\n",
                "    payment VARCHAR(20) DEFAULT 'Credit Card' CHECK (payment IN ('Credit Card', 'Cash on Delivery', 'Paypal')),\n",
                "    status VARCHAR(20) DEFAULT 'Prepare' CHECK (status IN ('Shipping', 'Delivery', 'Prepare')),\n",
                "    total_amount FLOAT DEFAULT 0\n",
                "    PRIMARY KEY (OrderID),\n",
                "    FOREIGN KEY (CustomerID) REFERENCES Customer,\n",
                "    FOREIGN KEY (OrderItemID) REFERENCES OrderItem\n",
                ")"
            ],
            "metadata": {
                "language": "sql",
                "azdata_cell_guid": "9511b6a6-b9df-4199-932d-7a0362210fdc"
            },
            "outputs": [
                {
                    "output_type": "display_data",
                    "data": {
                        "text/html": "Commands completed successfully."
                    },
                    "metadata": {}
                },
                {
                    "output_type": "display_data",
                    "data": {
                        "text/html": "Total execution time: 00:00:00.028"
                    },
                    "metadata": {}
                }
            ],
            "execution_count": 14
        },
        {
            "cell_type": "code",
            "source": [
                "INSERT INTO Product (ProductID, articleType, baseColour, gender, masterCategory, productDisplayName, season, subCategory, usage, productPrice, year, quantity, image)\n",
                "VALUES\n",
                "  (18696, 'Jeans', 'Blue', 'Men', 'Apparel', 'Peter England Men Party Blue Jeans', 'Summer', 'Bottomwear', 'Casual', 1356.5, 2012, 150, 'http://assets.myntassets.com/v1/images/style/properties/4850873d0c417e6480a26059f83aac29_images.jpg'),\n",
                "  (18715, 'Watches', 'Black', 'Men', 'Accessories', 'CASIO G-Shock Men Black Digital Watch G-7710-1DR G223', 'Winter', 'Watches', 'Casual', 3616, 2016, 173, 'http://assets.myntassets.com/assets/images/17429/2018/3/5/11520250143953-CASIO-G-Shock-Men-Black-Digital-Watch-G223-8211520250143786-1.jpg'),\n",
                "  (18698, 'Track Pants', 'Black', 'Men', 'Apparel', 'Manchester United Men Solid Black Track Pants', 'Fall', 'Bottomwear', 'Casual', 7636.25, 2011, 157, 'http://assets.myntassets.com/v1/images/style/properties/8153dc35d9a5420eeb93922067137db6_images.jpg'),\n",
                "  (18702, 'Shirts', 'Purple', 'Women', 'Apparel', 'Jealous 21 Women Purple Shirt', 'Summer', 'Topwear', 'Casual', 1697.75, 2012, 143, 'http://assets.myntassets.com/v1/images/style/properties/45ddbc6a15140556214e15923244755b_images.jpg'),\n",
                "  (18700, 'Tshirts', 'Grey', 'Men', 'Apparel', 'Inkfruit Mens Chain Reaction T-shirt', 'Summer', 'Topwear', 'Casual', 4489, 2011, 58, 'http://assets.myntassets.com/v1/images/style/properties/9c1b19682ecf926c296f520d5d6e0972_images.jpg'),\n",
                "  (18701, 'Shirts', 'Green', 'Men', 'Apparel', 'Fabindia Men Striped Green Shirt', 'Summer', 'Topwear', 'Ethnic', 6280.75, 2012, 176, 'http://assets.myntassets.com/v1/images/style/properties/06e9d4231254fdb2c7fe967ad413ad7b_images.jpg'),\n",
                "  (18714, 'Handbags', 'Brown', 'Women', 'Accessories', 'Baggit Women Brown Handbag', 'Summer', 'Bags', 'Casual', 6503.25, 2012, 148, 'http://assets.myntassets.com/v1/images/style/properties/b14c7bf275c6edca3e849200fb7cbf6c_images.jpg');\n",
                ""
            ],
            "metadata": {
                "language": "sql",
                "azdata_cell_guid": "2854fc5a-76b2-4bb6-af7e-0b9cfaa45ceb"
            },
            "outputs": [
                {
                    "output_type": "display_data",
                    "data": {
                        "text/html": "(7 rows affected)"
                    },
                    "metadata": {}
                },
                {
                    "output_type": "display_data",
                    "data": {
                        "text/html": "Total execution time: 00:00:00.027"
                    },
                    "metadata": {}
                }
            ],
            "execution_count": 16
        },
        {
            "cell_type": "code",
            "source": [
                "INSERT INTO Customer (address, phone, CustomerID)\n",
                "VALUES\n",
                "  ('New Address 1', 012345678, 1),\n",
                "  ('19/140 Kaset', 098765432, 10),\n",
                "  ('Chinatown', 011111111, 7),\n",
                "  ('BKK', 021212121, 12),\n",
                "  ('Bangkok', NULL, 2),\n",
                "  ('Chiangmai', 099999999, 6);"
            ],
            "metadata": {
                "language": "sql",
                "azdata_cell_guid": "e9f4abdd-7c6f-4129-9bee-be19981a9d94"
            },
            "outputs": [
                {
                    "output_type": "display_data",
                    "data": {
                        "text/html": "(6 rows affected)"
                    },
                    "metadata": {}
                },
                {
                    "output_type": "display_data",
                    "data": {
                        "text/html": "Total execution time: 00:00:00.012"
                    },
                    "metadata": {}
                }
            ],
            "execution_count": 17
        },
        {
            "cell_type": "code",
            "source": [
                "INSERT INTO OrderItem (ProductID, OrderItemID)\n",
                "VALUES\n",
                "  (18696, 136),\n",
                "  (18698, 137),\n",
                "  (18702, 139),\n",
                "  (18700, 140),\n",
                "  (18700, 141);\n",
                ""
            ],
            "metadata": {
                "language": "sql",
                "azdata_cell_guid": "c982672b-3f7a-45cd-9b3b-df25e9f9ac0a"
            },
            "outputs": [
                {
                    "output_type": "display_data",
                    "data": {
                        "text/html": "(5 rows affected)"
                    },
                    "metadata": {}
                },
                {
                    "output_type": "display_data",
                    "data": {
                        "text/html": "Total execution time: 00:00:00.034"
                    },
                    "metadata": {}
                }
            ],
            "execution_count": 19
        },
        {
            "cell_type": "code",
            "source": [
                "INSERT INTO Customer (address, phone, CustomerID)\n",
                "VALUES\n",
                "  ('New Address 2', 092685502, 17),\n",
                "  ('New Address 3', 09999999, 14),\n",
                "  ('Address 6', NULL, 15),\n",
                "  ('Address 4', 092836276, 16)\n",
                "  \n",
                "INSERT INTO CustomerOrder (OrderID, OrderItemID, status, total_amount, CustomerID, payment)\n",
                "VALUES\n",
                "  (1, 136, 'Delivery', 2713, 17, 'PayPal'),\n",
                "  (2, 137, 'Prepare', 0, 17, 'Credit Card'),\n",
                "  (3, 139, 'Shipping', 1356.5, 6, 'Credit Card'),\n",
                "  (4, 140, 'Prepare', 0, 6, 'Credit Card'),\n",
                "  (5, 141, 'Delivery', 3616, 14, 'PayPal'),\n",
                "  (57, 140, 'Prepare', 0, 14, 'Credit Card'),\n",
                "  (53, 136, 'Delivery', 3616, 15, 'PayPal'),\n",
                "  (54, 137, 'Prepare', 0, 15, 'Credit Card'),\n",
                "  (56, 139, 'Prepare', 5093.25, 16, 'Credit Card');"
            ],
            "metadata": {
                "language": "sql",
                "azdata_cell_guid": "10ccbd60-e0a3-43fe-bec0-a81cfaf5f226"
            },
            "outputs": [
                {
                    "output_type": "display_data",
                    "data": {
                        "text/html": "(4 rows affected)"
                    },
                    "metadata": {}
                },
                {
                    "output_type": "display_data",
                    "data": {
                        "text/html": "(9 rows affected)"
                    },
                    "metadata": {}
                },
                {
                    "output_type": "display_data",
                    "data": {
                        "text/html": "Total execution time: 00:00:00.035"
                    },
                    "metadata": {}
                }
            ],
            "execution_count": 21
        },
        {
            "cell_type": "code",
            "source": [
                "-- List all customers and their total order amounts\n",
                "\n",
                "SELECT c.CustomerID, c.address, SUM(co.total_amount) AS total_order_amount\n",
                "FROM Customer c\n",
                "LEFT JOIN CustomerOrder co ON c.CustomerID = co.CustomerID\n",
                "GROUP BY c.CustomerID, c.address;"
            ],
            "metadata": {
                "azdata_cell_guid": "4b523acc-1fc2-4a44-9830-841bfb8d13e6",
                "language": "sql"
            },
            "outputs": [
                {
                    "output_type": "display_data",
                    "data": {
                        "text/html": "(10 rows affected)"
                    },
                    "metadata": {}
                },
                {
                    "output_type": "display_data",
                    "data": {
                        "text/html": "Total execution time: 00:00:00.153"
                    },
                    "metadata": {}
                },
                {
                    "output_type": "execute_result",
                    "metadata": {},
                    "execution_count": 23,
                    "data": {
                        "application/vnd.dataresource+json": {
                            "schema": {
                                "fields": [
                                    {
                                        "name": "CustomerID"
                                    },
                                    {
                                        "name": "address"
                                    },
                                    {
                                        "name": "total_order_amount"
                                    }
                                ]
                            },
                            "data": [
                                {
                                    "CustomerID": "1",
                                    "address": "New Address 1",
                                    "total_order_amount": "NULL"
                                },
                                {
                                    "CustomerID": "10",
                                    "address": "19/140 Kaset",
                                    "total_order_amount": "NULL"
                                },
                                {
                                    "CustomerID": "12",
                                    "address": "BKK",
                                    "total_order_amount": "NULL"
                                },
                                {
                                    "CustomerID": "14",
                                    "address": "New Address 3",
                                    "total_order_amount": "3616"
                                },
                                {
                                    "CustomerID": "15",
                                    "address": "Address 6",
                                    "total_order_amount": "3616"
                                },
                                {
                                    "CustomerID": "16",
                                    "address": "Address 4",
                                    "total_order_amount": "5093.25"
                                },
                                {
                                    "CustomerID": "17",
                                    "address": "New Address 2",
                                    "total_order_amount": "2713"
                                },
                                {
                                    "CustomerID": "2",
                                    "address": "Bangkok",
                                    "total_order_amount": "NULL"
                                },
                                {
                                    "CustomerID": "6",
                                    "address": "Chiangmai",
                                    "total_order_amount": "1356.5"
                                },
                                {
                                    "CustomerID": "7",
                                    "address": "Chinatown",
                                    "total_order_amount": "NULL"
                                }
                            ]
                        },
                        "text/html": [
                            "<table>",
                            "<tr><th>CustomerID</th><th>address</th><th>total_order_amount</th></tr>",
                            "<tr><td>1</td><td>New Address 1</td><td>NULL</td></tr>",
                            "<tr><td>10</td><td>19/140 Kaset</td><td>NULL</td></tr>",
                            "<tr><td>12</td><td>BKK</td><td>NULL</td></tr>",
                            "<tr><td>14</td><td>New Address 3</td><td>3616</td></tr>",
                            "<tr><td>15</td><td>Address 6</td><td>3616</td></tr>",
                            "<tr><td>16</td><td>Address 4</td><td>5093.25</td></tr>",
                            "<tr><td>17</td><td>New Address 2</td><td>2713</td></tr>",
                            "<tr><td>2</td><td>Bangkok</td><td>NULL</td></tr>",
                            "<tr><td>6</td><td>Chiangmai</td><td>1356.5</td></tr>",
                            "<tr><td>7</td><td>Chinatown</td><td>NULL</td></tr>",
                            "</table>"
                        ]
                    }
                }
            ],
            "execution_count": 23
        },
        {
            "cell_type": "code",
            "source": [
                "-- Filter products from most to least expensive\n",
                "\n",
                "SELECT ProductID, productPrice, productDisplayName FROM Product\n",
                "ORDER BY productPrice DESC"
            ],
            "metadata": {
                "language": "sql",
                "azdata_cell_guid": "b8b6c4f6-3dd7-4e26-9325-469ff92d47fc"
            },
            "outputs": [
                {
                    "output_type": "display_data",
                    "data": {
                        "text/html": "(7 rows affected)"
                    },
                    "metadata": {}
                },
                {
                    "output_type": "display_data",
                    "data": {
                        "text/html": "Total execution time: 00:00:00.045"
                    },
                    "metadata": {}
                },
                {
                    "output_type": "execute_result",
                    "metadata": {},
                    "execution_count": 26,
                    "data": {
                        "application/vnd.dataresource+json": {
                            "schema": {
                                "fields": [
                                    {
                                        "name": "ProductID"
                                    },
                                    {
                                        "name": "productPrice"
                                    },
                                    {
                                        "name": "productDisplayName"
                                    }
                                ]
                            },
                            "data": [
                                {
                                    "ProductID": "18698",
                                    "productPrice": "7636.25",
                                    "productDisplayName": "Manchester United Men Solid Black Track Pants"
                                },
                                {
                                    "ProductID": "18714",
                                    "productPrice": "6503.25",
                                    "productDisplayName": "Baggit Women Brown Handbag"
                                },
                                {
                                    "ProductID": "18701",
                                    "productPrice": "6280.75",
                                    "productDisplayName": "Fabindia Men Striped Green Shirt"
                                },
                                {
                                    "ProductID": "18700",
                                    "productPrice": "4489",
                                    "productDisplayName": "Inkfruit Mens Chain Reaction T-shirt"
                                },
                                {
                                    "ProductID": "18715",
                                    "productPrice": "3616",
                                    "productDisplayName": "CASIO G-Shock Men Black Digital Watch G-7710-1DR G223"
                                },
                                {
                                    "ProductID": "18702",
                                    "productPrice": "1697.75",
                                    "productDisplayName": "Jealous 21 Women Purple Shirt"
                                },
                                {
                                    "ProductID": "18696",
                                    "productPrice": "1356.5",
                                    "productDisplayName": "Peter England Men Party Blue Jeans"
                                }
                            ]
                        },
                        "text/html": [
                            "<table>",
                            "<tr><th>ProductID</th><th>productPrice</th><th>productDisplayName</th></tr>",
                            "<tr><td>18698</td><td>7636.25</td><td>Manchester United Men Solid Black Track Pants</td></tr>",
                            "<tr><td>18714</td><td>6503.25</td><td>Baggit Women Brown Handbag</td></tr>",
                            "<tr><td>18701</td><td>6280.75</td><td>Fabindia Men Striped Green Shirt</td></tr>",
                            "<tr><td>18700</td><td>4489</td><td>Inkfruit Mens Chain Reaction T-shirt</td></tr>",
                            "<tr><td>18715</td><td>3616</td><td>CASIO G-Shock Men Black Digital Watch G-7710-1DR G223</td></tr>",
                            "<tr><td>18702</td><td>1697.75</td><td>Jealous 21 Women Purple Shirt</td></tr>",
                            "<tr><td>18696</td><td>1356.5</td><td>Peter England Men Party Blue Jeans</td></tr>",
                            "</table>"
                        ]
                    }
                }
            ],
            "execution_count": 26
        },
        {
            "cell_type": "code",
            "source": [
                "-- Calculate the total sales for each product.\n",
                "\n",
                "SELECT p.ProductID, p.productDisplayName, SUM(co.total_amount) AS total_sales\n",
                "FROM Product p\n",
                "JOIN OrderItem oi ON p.ProductID = oi.ProductID\n",
                "JOIN CustomerOrder co ON oi.OrderItemID = co.OrderItemID\n",
                "GROUP BY p.ProductID, p.productDisplayName;"
            ],
            "metadata": {
                "language": "sql",
                "azdata_cell_guid": "741f43e4-fa79-41e6-bcea-d1acaba4d8df"
            },
            "outputs": [
                {
                    "output_type": "display_data",
                    "data": {
                        "text/html": "(4 rows affected)"
                    },
                    "metadata": {}
                },
                {
                    "output_type": "display_data",
                    "data": {
                        "text/html": "Total execution time: 00:00:00.066"
                    },
                    "metadata": {}
                },
                {
                    "output_type": "execute_result",
                    "metadata": {},
                    "execution_count": 27,
                    "data": {
                        "application/vnd.dataresource+json": {
                            "schema": {
                                "fields": [
                                    {
                                        "name": "ProductID"
                                    },
                                    {
                                        "name": "productDisplayName"
                                    },
                                    {
                                        "name": "total_sales"
                                    }
                                ]
                            },
                            "data": [
                                {
                                    "ProductID": "18696",
                                    "productDisplayName": "Peter England Men Party Blue Jeans",
                                    "total_sales": "6329"
                                },
                                {
                                    "ProductID": "18698",
                                    "productDisplayName": "Manchester United Men Solid Black Track Pants",
                                    "total_sales": "0"
                                },
                                {
                                    "ProductID": "18700",
                                    "productDisplayName": "Inkfruit Mens Chain Reaction T-shirt",
                                    "total_sales": "3616"
                                },
                                {
                                    "ProductID": "18702",
                                    "productDisplayName": "Jealous 21 Women Purple Shirt",
                                    "total_sales": "6449.75"
                                }
                            ]
                        },
                        "text/html": [
                            "<table>",
                            "<tr><th>ProductID</th><th>productDisplayName</th><th>total_sales</th></tr>",
                            "<tr><td>18696</td><td>Peter England Men Party Blue Jeans</td><td>6329</td></tr>",
                            "<tr><td>18698</td><td>Manchester United Men Solid Black Track Pants</td><td>0</td></tr>",
                            "<tr><td>18700</td><td>Inkfruit Mens Chain Reaction T-shirt</td><td>3616</td></tr>",
                            "<tr><td>18702</td><td>Jealous 21 Women Purple Shirt</td><td>6449.75</td></tr>",
                            "</table>"
                        ]
                    }
                }
            ],
            "execution_count": 27
        },
        {
            "cell_type": "code",
            "source": [
                "-- List all orders with 'Credit Card' payment\n",
                "\n",
                "SELECT CustomerID, OrderID, payment FROM CustomerOrder\n",
                "WHERE payment = 'Credit Card';"
            ],
            "metadata": {
                "language": "sql",
                "azdata_cell_guid": "8f2f12e0-0d6a-40ca-ac78-80c993b06d17"
            },
            "outputs": [
                {
                    "output_type": "display_data",
                    "data": {
                        "text/html": "(6 rows affected)"
                    },
                    "metadata": {}
                },
                {
                    "output_type": "display_data",
                    "data": {
                        "text/html": "Total execution time: 00:00:00.011"
                    },
                    "metadata": {}
                },
                {
                    "output_type": "execute_result",
                    "metadata": {},
                    "execution_count": 30,
                    "data": {
                        "application/vnd.dataresource+json": {
                            "schema": {
                                "fields": [
                                    {
                                        "name": "CustomerID"
                                    },
                                    {
                                        "name": "OrderID"
                                    },
                                    {
                                        "name": "payment"
                                    }
                                ]
                            },
                            "data": [
                                {
                                    "CustomerID": "17",
                                    "OrderID": "2",
                                    "payment": "Credit Card"
                                },
                                {
                                    "CustomerID": "6",
                                    "OrderID": "3",
                                    "payment": "Credit Card"
                                },
                                {
                                    "CustomerID": "6",
                                    "OrderID": "4",
                                    "payment": "Credit Card"
                                },
                                {
                                    "CustomerID": "15",
                                    "OrderID": "54",
                                    "payment": "Credit Card"
                                },
                                {
                                    "CustomerID": "16",
                                    "OrderID": "56",
                                    "payment": "Credit Card"
                                },
                                {
                                    "CustomerID": "14",
                                    "OrderID": "57",
                                    "payment": "Credit Card"
                                }
                            ]
                        },
                        "text/html": [
                            "<table>",
                            "<tr><th>CustomerID</th><th>OrderID</th><th>payment</th></tr>",
                            "<tr><td>17</td><td>2</td><td>Credit Card</td></tr>",
                            "<tr><td>6</td><td>3</td><td>Credit Card</td></tr>",
                            "<tr><td>6</td><td>4</td><td>Credit Card</td></tr>",
                            "<tr><td>15</td><td>54</td><td>Credit Card</td></tr>",
                            "<tr><td>16</td><td>56</td><td>Credit Card</td></tr>",
                            "<tr><td>14</td><td>57</td><td>Credit Card</td></tr>",
                            "</table>"
                        ]
                    }
                }
            ],
            "execution_count": 30
        },
        {
            "cell_type": "code",
            "source": [
                "-- Find customers who haven't placed any orders\n",
                "\n",
                "SELECT c.CustomerID, c.address\n",
                "FROM Customer c\n",
                "LEFT JOIN CustomerOrder co ON c.CustomerID = co.CustomerID\n",
                "WHERE co.CustomerID IS NULL;\n",
                ""
            ],
            "metadata": {
                "language": "sql",
                "azdata_cell_guid": "8cf687ec-1d13-44c6-8e55-0e9fd5433099"
            },
            "outputs": [
                {
                    "output_type": "display_data",
                    "data": {
                        "text/html": "(5 rows affected)"
                    },
                    "metadata": {}
                },
                {
                    "output_type": "display_data",
                    "data": {
                        "text/html": "Total execution time: 00:00:00.029"
                    },
                    "metadata": {}
                },
                {
                    "output_type": "execute_result",
                    "metadata": {},
                    "execution_count": 31,
                    "data": {
                        "application/vnd.dataresource+json": {
                            "schema": {
                                "fields": [
                                    {
                                        "name": "CustomerID"
                                    },
                                    {
                                        "name": "address"
                                    }
                                ]
                            },
                            "data": [
                                {
                                    "CustomerID": "1",
                                    "address": "New Address 1"
                                },
                                {
                                    "CustomerID": "10",
                                    "address": "19/140 Kaset"
                                },
                                {
                                    "CustomerID": "12",
                                    "address": "BKK"
                                },
                                {
                                    "CustomerID": "2",
                                    "address": "Bangkok"
                                },
                                {
                                    "CustomerID": "7",
                                    "address": "Chinatown"
                                }
                            ]
                        },
                        "text/html": [
                            "<table>",
                            "<tr><th>CustomerID</th><th>address</th></tr>",
                            "<tr><td>1</td><td>New Address 1</td></tr>",
                            "<tr><td>10</td><td>19/140 Kaset</td></tr>",
                            "<tr><td>12</td><td>BKK</td></tr>",
                            "<tr><td>2</td><td>Bangkok</td></tr>",
                            "<tr><td>7</td><td>Chinatown</td></tr>",
                            "</table>"
                        ]
                    }
                }
            ],
            "execution_count": 31
        },
        {
            "cell_type": "code",
            "source": [
                "-- Retrieve a list of products that are currently out of stock.\n",
                "\n",
                "SELECT * FROM Product\n",
                "WHERE quantity = 0;\n",
                ""
            ],
            "metadata": {
                "language": "sql",
                "azdata_cell_guid": "ed9b1e8d-378f-47c4-b8d7-b8a6a2cc0311"
            },
            "outputs": [
                {
                    "output_type": "display_data",
                    "data": {
                        "text/html": "(0 rows affected)"
                    },
                    "metadata": {}
                },
                {
                    "output_type": "display_data",
                    "data": {
                        "text/html": "Total execution time: 00:00:00.045"
                    },
                    "metadata": {}
                },
                {
                    "output_type": "execute_result",
                    "metadata": {},
                    "execution_count": 34,
                    "data": {
                        "application/vnd.dataresource+json": {
                            "schema": {
                                "fields": [
                                    {
                                        "name": "ProductID"
                                    },
                                    {
                                        "name": "gender"
                                    },
                                    {
                                        "name": "masterCategory"
                                    },
                                    {
                                        "name": "subCategory"
                                    },
                                    {
                                        "name": "articleType"
                                    },
                                    {
                                        "name": "baseColour"
                                    },
                                    {
                                        "name": "season"
                                    },
                                    {
                                        "name": "year"
                                    },
                                    {
                                        "name": "usage"
                                    },
                                    {
                                        "name": "productDisplayName"
                                    },
                                    {
                                        "name": "productPrice"
                                    },
                                    {
                                        "name": "quantity"
                                    },
                                    {
                                        "name": "image"
                                    }
                                ]
                            },
                            "data": []
                        },
                        "text/html": [
                            "<table>",
                            "<tr><th>ProductID</th><th>gender</th><th>masterCategory</th><th>subCategory</th><th>articleType</th><th>baseColour</th><th>season</th><th>year</th><th>usage</th><th>productDisplayName</th><th>productPrice</th><th>quantity</th><th>image</th></tr>",
                            "</table>"
                        ]
                    }
                }
            ],
            "execution_count": 34
        },
        {
            "cell_type": "code",
            "source": [
                "-- Calculate the average order value for all completed orders.\n",
                "\n",
                "SELECT AVG(total_amount) AS average_prepared_order\n",
                "FROM CustomerOrder\n",
                "WHERE status = 'Prepare';\n",
                ""
            ],
            "metadata": {
                "language": "sql",
                "azdata_cell_guid": "6df55d9e-ba0b-4da5-8669-985f0a8d1dc8"
            },
            "outputs": [
                {
                    "output_type": "display_data",
                    "data": {
                        "text/html": "(1 row affected)"
                    },
                    "metadata": {}
                },
                {
                    "output_type": "display_data",
                    "data": {
                        "text/html": "Total execution time: 00:00:00.019"
                    },
                    "metadata": {}
                },
                {
                    "output_type": "execute_result",
                    "metadata": {},
                    "execution_count": 39,
                    "data": {
                        "application/vnd.dataresource+json": {
                            "schema": {
                                "fields": [
                                    {
                                        "name": "average_prepared_order"
                                    }
                                ]
                            },
                            "data": [
                                {
                                    "average_prepared_order": "1018.65"
                                }
                            ]
                        },
                        "text/html": [
                            "<table>",
                            "<tr><th>average_prepared_order</th></tr>",
                            "<tr><td>1018.65</td></tr>",
                            "</table>"
                        ]
                    }
                }
            ],
            "execution_count": 39
        },
        {
            "cell_type": "code",
            "source": [
                "-- Identify all pending orders and their details.\n",
                "\n",
                "SELECT co.OrderID, co.status, co.total_amount\n",
                "FROM CustomerOrder co\n",
                "JOIN Customer c ON co.CustomerID = c.CustomerID\n",
                "WHERE co.status = 'Prepare';\n",
                ""
            ],
            "metadata": {
                "language": "sql",
                "azdata_cell_guid": "627620a0-824b-4f53-b6bc-f89bdbbe96dd"
            },
            "outputs": [
                {
                    "output_type": "display_data",
                    "data": {
                        "text/html": "(5 rows affected)"
                    },
                    "metadata": {}
                },
                {
                    "output_type": "display_data",
                    "data": {
                        "text/html": "Total execution time: 00:00:00.029"
                    },
                    "metadata": {}
                },
                {
                    "output_type": "execute_result",
                    "metadata": {},
                    "execution_count": 42,
                    "data": {
                        "application/vnd.dataresource+json": {
                            "schema": {
                                "fields": [
                                    {
                                        "name": "OrderID"
                                    },
                                    {
                                        "name": "status"
                                    },
                                    {
                                        "name": "total_amount"
                                    }
                                ]
                            },
                            "data": [
                                {
                                    "OrderID": "2",
                                    "status": "Prepare",
                                    "total_amount": "0"
                                },
                                {
                                    "OrderID": "4",
                                    "status": "Prepare",
                                    "total_amount": "0"
                                },
                                {
                                    "OrderID": "54",
                                    "status": "Prepare",
                                    "total_amount": "0"
                                },
                                {
                                    "OrderID": "56",
                                    "status": "Prepare",
                                    "total_amount": "5093.25"
                                },
                                {
                                    "OrderID": "57",
                                    "status": "Prepare",
                                    "total_amount": "0"
                                }
                            ]
                        },
                        "text/html": [
                            "<table>",
                            "<tr><th>OrderID</th><th>status</th><th>total_amount</th></tr>",
                            "<tr><td>2</td><td>Prepare</td><td>0</td></tr>",
                            "<tr><td>4</td><td>Prepare</td><td>0</td></tr>",
                            "<tr><td>54</td><td>Prepare</td><td>0</td></tr>",
                            "<tr><td>56</td><td>Prepare</td><td>5093.25</td></tr>",
                            "<tr><td>57</td><td>Prepare</td><td>0</td></tr>",
                            "</table>"
                        ]
                    }
                }
            ],
            "execution_count": 42
        },
        {
            "cell_type": "code",
            "source": [
                "-- Identify the most common payment method:\n",
                "\n",
                "SELECT payment, COUNT(*) AS payment_count\n",
                "FROM CustomerOrder\n",
                "GROUP BY payment\n",
                "ORDER BY payment_count DESC"
            ],
            "metadata": {
                "language": "sql",
                "azdata_cell_guid": "40df864c-2314-4953-a59e-3bda1ad04be4"
            },
            "outputs": [
                {
                    "output_type": "display_data",
                    "data": {
                        "text/html": "(2 rows affected)"
                    },
                    "metadata": {}
                },
                {
                    "output_type": "display_data",
                    "data": {
                        "text/html": "Total execution time: 00:00:00.029"
                    },
                    "metadata": {}
                },
                {
                    "output_type": "execute_result",
                    "metadata": {},
                    "execution_count": 45,
                    "data": {
                        "application/vnd.dataresource+json": {
                            "schema": {
                                "fields": [
                                    {
                                        "name": "payment"
                                    },
                                    {
                                        "name": "payment_count"
                                    }
                                ]
                            },
                            "data": [
                                {
                                    "payment": "Credit Card",
                                    "payment_count": "6"
                                },
                                {
                                    "payment": "PayPal",
                                    "payment_count": "3"
                                }
                            ]
                        },
                        "text/html": [
                            "<table>",
                            "<tr><th>payment</th><th>payment_count</th></tr>",
                            "<tr><td>Credit Card</td><td>6</td></tr>",
                            "<tr><td>PayPal</td><td>3</td></tr>",
                            "</table>"
                        ]
                    }
                }
            ],
            "execution_count": 45
        },
        {
            "cell_type": "code",
            "source": [
                "-- Count order items for a specific order:\n",
                "\n",
                "SELECT COUNT(*) AS \"count\"\n",
                "FROM OrderItem\n",
                "INNER JOIN CustomerOrder\n",
                "ON (OrderItem.OrderItemID = CustomerOrder.OrderItemID)\n",
                "WHERE CustomerOrder.OrderID = 57;"
            ],
            "metadata": {
                "language": "sql",
                "azdata_cell_guid": "b5baf724-b3f6-4678-92e1-84f3de1fcb30"
            },
            "outputs": [
                {
                    "output_type": "display_data",
                    "data": {
                        "text/html": "(1 row affected)"
                    },
                    "metadata": {}
                },
                {
                    "output_type": "display_data",
                    "data": {
                        "text/html": "Total execution time: 00:00:00.029"
                    },
                    "metadata": {}
                },
                {
                    "output_type": "execute_result",
                    "metadata": {},
                    "execution_count": 62,
                    "data": {
                        "application/vnd.dataresource+json": {
                            "schema": {
                                "fields": [
                                    {
                                        "name": "count"
                                    }
                                ]
                            },
                            "data": [
                                {
                                    "count": "1"
                                }
                            ]
                        },
                        "text/html": [
                            "<table>",
                            "<tr><th>count</th></tr>",
                            "<tr><td>1</td></tr>",
                            "</table>"
                        ]
                    }
                }
            ],
            "execution_count": 62
        },
        {
            "cell_type": "code",
            "source": [
                "-- Search products by display name with price sorting:\n",
                "\n",
                "SELECT ProductID, gender, masterCategory, subCategory, articleType, baseColour, season, year, usage, productDisplayName, productPrice, quantity, image\n",
                "FROM Product\n",
                "WHERE UPPER(Product.productDisplayName) LIKE UPPER('%Watch%')\n",
                "ORDER BY Product.productPrice DESC;"
            ],
            "metadata": {
                "language": "sql",
                "azdata_cell_guid": "a880ebc9-5540-47c6-8f7e-b8a36c190ab9"
            },
            "outputs": [
                {
                    "output_type": "display_data",
                    "data": {
                        "text/html": "(1 row affected)"
                    },
                    "metadata": {}
                },
                {
                    "output_type": "display_data",
                    "data": {
                        "text/html": "Total execution time: 00:00:00.034"
                    },
                    "metadata": {}
                },
                {
                    "output_type": "execute_result",
                    "metadata": {},
                    "execution_count": 59,
                    "data": {
                        "application/vnd.dataresource+json": {
                            "schema": {
                                "fields": [
                                    {
                                        "name": "ProductID"
                                    },
                                    {
                                        "name": "gender"
                                    },
                                    {
                                        "name": "masterCategory"
                                    },
                                    {
                                        "name": "subCategory"
                                    },
                                    {
                                        "name": "articleType"
                                    },
                                    {
                                        "name": "baseColour"
                                    },
                                    {
                                        "name": "season"
                                    },
                                    {
                                        "name": "year"
                                    },
                                    {
                                        "name": "usage"
                                    },
                                    {
                                        "name": "productDisplayName"
                                    },
                                    {
                                        "name": "productPrice"
                                    },
                                    {
                                        "name": "quantity"
                                    },
                                    {
                                        "name": "image"
                                    }
                                ]
                            },
                            "data": [
                                {
                                    "ProductID": "18715",
                                    "gender": "Men",
                                    "masterCategory": "Accessories",
                                    "subCategory": "Watches",
                                    "articleType": "Watches",
                                    "baseColour": "Black",
                                    "season": "Winter",
                                    "year": "2016",
                                    "usage": "Casual",
                                    "productDisplayName": "CASIO G-Shock Men Black Digital Watch G-7710-1DR G223",
                                    "productPrice": "3616",
                                    "quantity": "173",
                                    "image": "http://assets.myntassets.com/assets/images/17429/2018/3/5/11520250143953-CASIO-G-Shock-Men-Black-Digital-Watch-G223-8211520250143786-1.jpg"
                                }
                            ]
                        },
                        "text/html": [
                            "<table>",
                            "<tr><th>ProductID</th><th>gender</th><th>masterCategory</th><th>subCategory</th><th>articleType</th><th>baseColour</th><th>season</th><th>year</th><th>usage</th><th>productDisplayName</th><th>productPrice</th><th>quantity</th><th>image</th></tr>",
                            "<tr><td>18715</td><td>Men</td><td>Accessories</td><td>Watches</td><td>Watches</td><td>Black</td><td>Winter</td><td>2016</td><td>Casual</td><td>CASIO G-Shock Men Black Digital Watch G-7710-1DR G223</td><td>3616</td><td>173</td><td>http://assets.myntassets.com/assets/images/17429/2018/3/5/11520250143953-CASIO-G-Shock-Men-Black-Digital-Watch-G223-8211520250143786-1.jpg</td></tr>",
                            "</table>"
                        ]
                    }
                }
            ],
            "execution_count": 59
        },
        {
            "cell_type": "code",
            "source": [
                "-- Retrieve product by ID\n",
                "\n",
                "SELECT ProductID, gender, masterCategory, subCategory, articleType, baseColour,\n",
                "       season, year, usage, productDisplayName, productPrice, quantity, image\n",
                "FROM Product\n",
                "WHERE Product.ProductID = '18696'"
            ],
            "metadata": {
                "language": "sql",
                "azdata_cell_guid": "ff9caf63-3f92-4565-b23e-e5ae66fb94cc"
            },
            "outputs": [
                {
                    "output_type": "display_data",
                    "data": {
                        "text/html": "(1 row affected)"
                    },
                    "metadata": {}
                },
                {
                    "output_type": "display_data",
                    "data": {
                        "text/html": "Total execution time: 00:00:00.034"
                    },
                    "metadata": {}
                },
                {
                    "output_type": "execute_result",
                    "metadata": {},
                    "execution_count": 57,
                    "data": {
                        "application/vnd.dataresource+json": {
                            "schema": {
                                "fields": [
                                    {
                                        "name": "ProductID"
                                    },
                                    {
                                        "name": "gender"
                                    },
                                    {
                                        "name": "masterCategory"
                                    },
                                    {
                                        "name": "subCategory"
                                    },
                                    {
                                        "name": "articleType"
                                    },
                                    {
                                        "name": "baseColour"
                                    },
                                    {
                                        "name": "season"
                                    },
                                    {
                                        "name": "year"
                                    },
                                    {
                                        "name": "usage"
                                    },
                                    {
                                        "name": "productDisplayName"
                                    },
                                    {
                                        "name": "productPrice"
                                    },
                                    {
                                        "name": "quantity"
                                    },
                                    {
                                        "name": "image"
                                    }
                                ]
                            },
                            "data": [
                                {
                                    "ProductID": "18696",
                                    "gender": "Men",
                                    "masterCategory": "Apparel",
                                    "subCategory": "Bottomwear",
                                    "articleType": "Jeans",
                                    "baseColour": "Blue",
                                    "season": "Summer",
                                    "year": "2012",
                                    "usage": "Casual",
                                    "productDisplayName": "Peter England Men Party Blue Jeans",
                                    "productPrice": "1356.5",
                                    "quantity": "150",
                                    "image": "http://assets.myntassets.com/v1/images/style/properties/4850873d0c417e6480a26059f83aac29_images.jpg"
                                }
                            ]
                        },
                        "text/html": [
                            "<table>",
                            "<tr><th>ProductID</th><th>gender</th><th>masterCategory</th><th>subCategory</th><th>articleType</th><th>baseColour</th><th>season</th><th>year</th><th>usage</th><th>productDisplayName</th><th>productPrice</th><th>quantity</th><th>image</th></tr>",
                            "<tr><td>18696</td><td>Men</td><td>Apparel</td><td>Bottomwear</td><td>Jeans</td><td>Blue</td><td>Summer</td><td>2012</td><td>Casual</td><td>Peter England Men Party Blue Jeans</td><td>1356.5</td><td>150</td><td>http://assets.myntassets.com/v1/images/style/properties/4850873d0c417e6480a26059f83aac29_images.jpg</td></tr>",
                            "</table>"
                        ]
                    }
                }
            ],
            "execution_count": 57
        },
        {
            "cell_type": "code",
            "source": [
                "-- Identify total purchase amount of each customer.\n",
                "\n",
                "SELECT \n",
                "    CustomerID, totalPurchaseAmount\n",
                "FROM (\n",
                "    SELECT \n",
                "        c.CustomerID,\n",
                "        SUM(co.total_amount) AS totalPurchaseAmount\n",
                "    FROM Customer c\n",
                "    JOIN CustomerOrder co ON c.CustomerID = co.CustomerID\n",
                "    GROUP BY c.CustomerID\n",
                ") AS CustomerPurchase\n",
                "WHERE totalPurchaseAmount > 500;\n",
                ""
            ],
            "metadata": {
                "language": "sql",
                "azdata_cell_guid": "3515a043-47e9-4729-94ff-ad8df46b8d7d"
            },
            "outputs": [
                {
                    "output_type": "display_data",
                    "data": {
                        "text/html": "(5 rows affected)"
                    },
                    "metadata": {}
                },
                {
                    "output_type": "display_data",
                    "data": {
                        "text/html": "Total execution time: 00:00:00.020"
                    },
                    "metadata": {}
                },
                {
                    "output_type": "execute_result",
                    "metadata": {},
                    "execution_count": 50,
                    "data": {
                        "application/vnd.dataresource+json": {
                            "schema": {
                                "fields": [
                                    {
                                        "name": "CustomerID"
                                    },
                                    {
                                        "name": "totalPurchaseAmount"
                                    }
                                ]
                            },
                            "data": [
                                {
                                    "CustomerID": "14",
                                    "totalPurchaseAmount": "3616"
                                },
                                {
                                    "CustomerID": "15",
                                    "totalPurchaseAmount": "3616"
                                },
                                {
                                    "CustomerID": "16",
                                    "totalPurchaseAmount": "5093.25"
                                },
                                {
                                    "CustomerID": "17",
                                    "totalPurchaseAmount": "2713"
                                },
                                {
                                    "CustomerID": "6",
                                    "totalPurchaseAmount": "1356.5"
                                }
                            ]
                        },
                        "text/html": [
                            "<table>",
                            "<tr><th>CustomerID</th><th>totalPurchaseAmount</th></tr>",
                            "<tr><td>14</td><td>3616</td></tr>",
                            "<tr><td>15</td><td>3616</td></tr>",
                            "<tr><td>16</td><td>5093.25</td></tr>",
                            "<tr><td>17</td><td>2713</td></tr>",
                            "<tr><td>6</td><td>1356.5</td></tr>",
                            "</table>"
                        ]
                    }
                }
            ],
            "execution_count": 50
        }
    ]
}